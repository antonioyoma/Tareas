{
 "cells": [
  {
   "cell_type": "code",
   "execution_count": null,
   "metadata": {},
   "outputs": [],
   "source": [
    "lista=[]\n",
    "i=0\n",
    "cantidad = int(input(\"Ingrese tamaño de la lista: \"))\n",
    "while i < cantidad:\n",
    "    print(\"Ingrese nombre:\")\n",
    "    nombre=str(input())\n",
    "    lista.append(nombre)\n",
    "    i+= 1\n",
    "\n",
    "def saludo():\n",
    "    for nombres in lista:\n",
    "        print(\"Hola \", nombres)\n",
    "saludo()"
   ]
  },
  {
   "cell_type": "code",
   "execution_count": null,
   "metadata": {},
   "outputs": [],
   "source": [
    "lista=[]\n",
    "i=0\n",
    "cantidad = int(input(\"Introduzca cantidad de personas: \"))\n",
    "while i < cantidad:\n",
    "    print(\"Introduzca el nombre de la persona:\")\n",
    "    nombre=str(input())\n",
    "    lista.append(nombre)\n",
    "    i+= 1\n",
    "\n",
    "for nombres in lista:\n",
    "    print(\"Hola, \", nombres)\n"
   ]
  },
  {
   "cell_type": "code",
   "execution_count": null,
   "metadata": {},
   "outputs": [],
   "source": [
    "nmax = int(input(\"Introduzca la cantidad de invitados: \"))\n",
    "i=0\n",
    "invitados = []\n",
    "resp1=0\n",
    "\n",
    "while i < nmax :\n",
    "    \n",
    "    print(\"Si desea agregar otro invitado presione un numero a excepción del 1, si no es asi presione 1\")\n",
    "    resp1 = int(input())\n",
    "    \n",
    "    if resp1 == 1:\n",
    "        print(\"Saliendo\")\n",
    "        break\n",
    "    else: \n",
    "        print(\"Introduzca nombre del invitado: \")\n",
    "        agregado=str(input())\n",
    "        invitados.append(agregado)\n",
    "        i +=1\n",
    "print(\"\\nLista completada\")\n",
    "print(invitados) \n",
    "\n",
    "print(\"\\nSi desea cambiar un invitado presione un numero a excepción del 1, si no es asi presione 1\")\n",
    "resp2= int(input())\n",
    "if resp2 ==1:\n",
    "   print(\"\\nSi desea eliminar un invitado presione un numero a excepción del 1, si no es asi presione 1\")\n",
    "   resp33= int(input())\n",
    "   if resp33 ==1:\n",
    "     pass\n",
    "   else: \n",
    "    print(\"Introduzca el numero del invitado que desea eliminar empezando de la posicion 0\")\n",
    "    resp31 = int(input())\n",
    "    del invitados[resp31]\n",
    "    print(\"Lista completada nuevamente\")\n",
    "    print(invitados)\n",
    "    else: print(\"Introduzca el numero del invitado que desea cambiar empezando de la posicion 0\")\n",
    "resp21= int(input())\n",
    "print(\"Introduzca nombre del nuevo invitado: \")\n",
    "nuevo=str(input())\n",
    "invitados[resp21] = nuevo\n",
    "\n",
    "print(\"\\nLista nuevamente completada\")\n",
    "print(invitados)\n",
    "    "
   ]
  },
  {
   "cell_type": "code",
   "execution_count": null,
   "metadata": {},
   "outputs": [],
   "source": [
    "tamaño = int(input(\"Introduzca tamaño de la lista:\"))\n",
    "valor = tamaño + 1\n",
    "\n",
    "numeros = list(range(2, valor*2, 2))\n",
    "print(numeros)\n",
    "\n",
    "numeros = list(num**3 for num in numeros)\n",
    "print(numeros)\n",
    "\n",
    "print(\"\\nEl valor inicial es: \", numeros[0])\n",
    "print(\"Los valores centrales son: \", numeros[1:-1])\n",
    "print(\"El valor final es: \", numeros[-1])"
   ]
  },
  {
   "cell_type": "code",
   "execution_count": null,
   "metadata": {},
   "outputs": [],
   "source": [
    "tamaño = int(input(\"Introduzca tamaño de la lista: \"))\n",
    "i=0\n",
    "admin = \"admin\"\n",
    "lista = []\n",
    "while i < tamaño:\n",
    "    print(\"Ingrese nombre del usuario: \")\n",
    "    usuario=str(input()).lower()\n",
    "    if usuario==admin:\n",
    "            print(\"El nombre admin no puede ser registrado\")\n",
    "    elif usuario in lista:\n",
    "        print(\"Este nombre ya esta registrado, ingrese otro nombre de usuario\")\n",
    "    else: \n",
    "        lista.append(usuario)\n",
    "        i+=1\n",
    "          \n",
    "print(lista)"
   ]
  },
  {
   "cell_type": "code",
   "execution_count": null,
   "metadata": {},
   "outputs": [],
   "source": [
    "i=0\n",
    "\n",
    "dix = {\"Nombre\": \"\", \"Apellido\": \"\"}\n",
    "\n",
    "r1 = str(input(\"Ingrese Nombre: \"))\n",
    "dix[\"Nombre\"] = r1\n",
    "r2 = str(input(\"Ingrese Apellido: \"))\n",
    "dix[\"Apellido\"] = r2\n",
    "print(dix)\n",
    "\n",
    "r=int(input(\"Desea agregar algun valor a la lista? (Ejemplo: Lugar de residencia, email, telefono)\"+\n",
    "     \"\\nSi desea agregar, oprima cualquier numero, sino, escriba 1)\"))\n",
    "\n",
    "while r!=1 :\n",
    "    c=str(input(\"Ingrese el campo a agregar: \"))\n",
    "    res=str(input(\"Rellene el campo agregado: \"))\n",
    "    dix[c]=res\n",
    "    r=int(input(\"Desea agegar otro campo?(INGRESE CUALQUIER NUMERO PARA SI-OPRIMA 1 PARA SALIR):\\n\"))\n",
    "\n",
    "print(dix)"
   ]
  },
  {
   "cell_type": "code",
   "execution_count": null,
   "metadata": {},
   "outputs": [],
   "source": [
    "lista = []\n",
    "\n",
    "r=\"\"\n",
    "basta = \"basta\"\n",
    "print(\"Para acabar la encuesta, escriba 'basta'\")\n",
    "while r!=basta:\n",
    "    r=str(input(\"Ingrese su lugar favorito: \"))\n",
    "    lista.append(r)\n",
    "print(lista[:-1])"
   ]
  }
 ],
 "metadata": {
  "kernelspec": {
   "display_name": "Python 3",
   "language": "python",
   "name": "python3"
  },
  "language_info": {
   "codemirror_mode": {
    "name": "ipython",
    "version": 3
   },
   "file_extension": ".py",
   "mimetype": "text/x-python",
   "name": "python",
   "nbconvert_exporter": "python",
   "pygments_lexer": "ipython3",
   "version": "3.7.3"
  }
 },
 "nbformat": 4,
 "nbformat_minor": 2
}
